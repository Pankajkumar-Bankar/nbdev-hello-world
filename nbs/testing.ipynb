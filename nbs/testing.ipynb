{
 "cells": [
  {
   "cell_type": "markdown",
   "metadata": {},
   "source": [
    "# Functions\n",
    "\n",
    "> This file contains different Functions to be tested."
   ]
  },
  {
   "cell_type": "code",
   "execution_count": null,
   "metadata": {},
   "outputs": [],
   "source": [
    "#| default_exp Functions"
   ]
  },
  {
   "cell_type": "code",
   "execution_count": null,
   "metadata": {},
   "outputs": [],
   "source": [
    "#| export\n",
    "def add(x,y):\n",
    "    \"\"\"This is add function\"\"\"\n",
    "    return x + y\n",
    " \n",
    "def subtract(x,y):\n",
    "    \"\"\"This is subtract function\"\"\"\n",
    "    return x - y\n",
    "\n",
    "def multiply(x,y):\n",
    "    \"\"\"This is multiply function\"\"\"\n",
    "    return x * y\n",
    "\n",
    "def divide(x,y):\n",
    "    \"\"\"This is divide function\"\"\"\n",
    "    if y == 0:\n",
    "        raise ValueError(\"Cannot divide by 0\")\n",
    "        \n",
    "    return round(x / y,2)"
   ]
  },
  {
   "cell_type": "code",
   "execution_count": null,
   "metadata": {},
   "outputs": [
    {
     "name": "stdout",
     "output_type": "stream",
     "text": [
      "4\n",
      "-2\n",
      "3\n",
      "0.33\n"
     ]
    }
   ],
   "source": [
    "#| hide\n",
    "print(add(1,3))\n",
    "print(subtract(1,3))\n",
    "print(multiply(1,3))\n",
    "print(divide(1,3))"
   ]
  },
  {
   "cell_type": "code",
   "execution_count": null,
   "metadata": {},
   "outputs": [],
   "source": [
    "#| hide\n",
    "import nbdev; nbdev.nbdev_export()"
   ]
  },
  {
   "cell_type": "code",
   "execution_count": null,
   "metadata": {},
   "outputs": [],
   "source": []
  },
  {
   "cell_type": "code",
   "execution_count": null,
   "metadata": {},
   "outputs": [],
   "source": []
  }
 ],
 "metadata": {
  "kernelspec": {
   "display_name": "python3",
   "language": "python",
   "name": "python3"
  }
 },
 "nbformat": 4,
 "nbformat_minor": 4
}
