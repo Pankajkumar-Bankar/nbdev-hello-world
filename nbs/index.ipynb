{
 "cells": [
  {
   "cell_type": "code",
   "execution_count": null,
   "metadata": {},
   "outputs": [],
   "source": [
    "#| hide\n",
    "from nbdev_hello_world.core import *"
   ]
  },
  {
   "cell_type": "markdown",
   "metadata": {},
   "source": [
    "# nbdev-hello-world\n",
    "\n",
    "> Testcases for functions"
   ]
  },
  {
   "cell_type": "code",
   "execution_count": null,
   "metadata": {},
   "outputs": [],
   "source": [
    "#| default_exp nbdev-hello-world"
   ]
  },
  {
   "cell_type": "markdown",
   "metadata": {},
   "source": [
    "This file will become your README and also the index of your documentation."
   ]
  },
  {
   "cell_type": "markdown",
   "metadata": {},
   "source": [
    "## Install"
   ]
  },
  {
   "cell_type": "markdown",
   "metadata": {},
   "source": [
    "```sh\n",
    "pip install nbdev_hello_world\n",
    "```"
   ]
  },
  {
   "cell_type": "markdown",
   "metadata": {},
   "source": [
    "## How to use"
   ]
  },
  {
   "cell_type": "markdown",
   "metadata": {},
   "source": [
    "This file contains all the testcases of Functions written in testing.ipynb ."
   ]
  },
  {
   "cell_type": "markdown",
   "metadata": {},
   "source": [
    "## TestCases"
   ]
  },
  {
   "cell_type": "code",
   "execution_count": null,
   "metadata": {},
   "outputs": [],
   "source": [
    "#| hide\n",
    "from nbdev_hello_world.Functions import *"
   ]
  },
  {
   "cell_type": "code",
   "execution_count": null,
   "metadata": {},
   "outputs": [
    {
     "name": "stdout",
     "output_type": "stream",
     "text": [
      "4\n",
      "-2\n",
      "3\n",
      "0.33\n"
     ]
    }
   ],
   "source": [
    "#| hide\n",
    "print(add(1,3))\n",
    "print(subtract(1,3))\n",
    "print(multiply(1,3))\n",
    "print(divide(1,3))"
   ]
  },
  {
   "cell_type": "code",
   "execution_count": null,
   "metadata": {},
   "outputs": [],
   "source": [
    "#| hide\n",
    "import unittest"
   ]
  },
  {
   "cell_type": "code",
   "execution_count": null,
   "metadata": {},
   "outputs": [],
   "source": [
    "#| echo:True\n",
    "class TestName(unittest.TestCase):\n",
    "    def test_add(self):\n",
    "        self.assertEqual(add(1,3),4)\n",
    "        \n",
    "    def test_subtract(self):\n",
    "        self.assertEqual(subtract(1,3),-2)\n",
    "        \n",
    "    def test_multiply(self):\n",
    "        self.assertEqual(multiply(1,3),3)\n",
    "        \n",
    "    def test_divide(self):\n",
    "        self.assertEqual(divide(1,3),0.33)    "
   ]
  },
  {
   "cell_type": "code",
   "execution_count": null,
   "metadata": {},
   "outputs": [
    {
     "name": "stderr",
     "output_type": "stream",
     "text": [
      "test_add (__main__.TestName) ... ok\n",
      "test_divide (__main__.TestName) ... ok\n",
      "test_multiply (__main__.TestName) ... ok\n",
      "test_subtract (__main__.TestName) ... ok\n",
      "\n",
      "----------------------------------------------------------------------\n",
      "Ran 4 tests in 0.010s\n",
      "\n",
      "OK\n"
     ]
    }
   ],
   "source": [
    "#| echo:False\n",
    "\n",
    "res = unittest.main(argv=[''], verbosity=3, exit=False)"
   ]
  },
  {
   "cell_type": "markdown",
   "metadata": {},
   "source": [
    "### Testing using Fastcore"
   ]
  },
  {
   "cell_type": "code",
   "execution_count": null,
   "metadata": {},
   "outputs": [],
   "source": [
    "#| hide\n",
    "from fastcore.test import *"
   ]
  },
  {
   "cell_type": "code",
   "execution_count": null,
   "metadata": {},
   "outputs": [],
   "source": [
    "#| echo:True\n",
    "class TestName(unittest.TestCase):\n",
    "    def test_add(self):\n",
    "        assert add(1,3)== 4\n",
    "        \n",
    "    def test_subtract(self):\n",
    "        assert subtract(1,3)== 4\n",
    "        \n",
    "    def test_multiply(self):\n",
    "        test_eq(multiply(1,3), 3)\n",
    "        \n",
    "    def test_divide(self):\n",
    "        test_eq(divide(1,3), 0.33)"
   ]
  },
  {
   "cell_type": "code",
   "execution_count": null,
   "metadata": {},
   "outputs": [
    {
     "name": "stderr",
     "output_type": "stream",
     "text": [
      "test_add (__main__.TestName) ... ok\n",
      "test_divide (__main__.TestName) ... ok\n",
      "test_multiply (__main__.TestName) ... ok\n",
      "test_subtract (__main__.TestName) ... FAIL\n",
      "\n",
      "======================================================================\n",
      "FAIL: test_subtract (__main__.TestName)\n",
      "----------------------------------------------------------------------\n",
      "Traceback (most recent call last):\n",
      "  File \"C:\\Users\\5115\\AppData\\Local\\Temp\\ipykernel_22516\\4123861692.py\", line 7, in test_subtract\n",
      "    assert subtract(1,3)== 4\n",
      "AssertionError\n",
      "\n",
      "----------------------------------------------------------------------\n",
      "Ran 4 tests in 0.013s\n",
      "\n",
      "FAILED (failures=1)\n"
     ]
    }
   ],
   "source": [
    "#| echo:False\n",
    "\n",
    "res = unittest.main(argv=[''], verbosity=3, exit=False)"
   ]
  },
  {
   "cell_type": "markdown",
   "metadata": {},
   "source": [
    "### Testing using pytest"
   ]
  },
  {
   "cell_type": "code",
   "execution_count": null,
   "metadata": {},
   "outputs": [],
   "source": [
    "#| hide\n",
    "import ipytest\n",
    "\n",
    "ipytest.autoconfig()"
   ]
  },
  {
   "cell_type": "code",
   "execution_count": null,
   "metadata": {},
   "outputs": [
    {
     "name": "stdout",
     "output_type": "stream",
     "text": [
      "\u001b[32m.\u001b[0m\u001b[31mF\u001b[0m\u001b[32m.\u001b[0m\u001b[32m.\u001b[0m\u001b[31m                                                                                         [100%]\u001b[0m\n",
      "============================================ FAILURES =============================================\n",
      "\u001b[31m\u001b[1m__________________________________________ test_subtract __________________________________________\u001b[0m\n",
      "\n",
      "    \u001b[94mdef\u001b[39;49;00m \u001b[92mtest_subtract\u001b[39;49;00m():\n",
      ">       \u001b[94massert\u001b[39;49;00m subtract(\u001b[94m1\u001b[39;49;00m,\u001b[94m3\u001b[39;49;00m) == \u001b[94m2\u001b[39;49;00m\n",
      "\u001b[1m\u001b[31mE       assert -2 == 2\u001b[0m\n",
      "\u001b[1m\u001b[31mE        +  where -2 = subtract(1, 3)\u001b[0m\n",
      "\n",
      "\u001b[1m\u001b[31mC:\\Users\\5115\\AppData\\Local\\Temp\\ipykernel_22516\\2678314103.py\u001b[0m:5: AssertionError\n",
      "\u001b[36m\u001b[1m===================================== short test summary info =====================================\u001b[0m\n",
      "\u001b[31mFAILED\u001b[0m t_dcfcb849b5634211b31c8d80c2082597.py::\u001b[1mtest_subtract\u001b[0m - assert -2 == 2\n",
      "\u001b[31m\u001b[31m\u001b[1m1 failed\u001b[0m, \u001b[32m3 passed\u001b[0m\u001b[31m in 0.53s\u001b[0m\u001b[0m\n"
     ]
    }
   ],
   "source": [
    "%%ipytest\n",
    "\n",
    "def test_add():\n",
    "    assert add(1,3) == 4\n",
    "    \n",
    "def test_subtract():\n",
    "    assert subtract(1,3) == 2\n",
    "    \n",
    "def test_multiply():\n",
    "    assert multiply(1,3) == 3\n",
    "    \n",
    "def test_divide():\n",
    "    assert divide(1,3) == 0.33\n",
    "\n",
    "    "
   ]
  },
  {
   "cell_type": "code",
   "execution_count": null,
   "metadata": {},
   "outputs": [],
   "source": [
    "#| hide\n",
    "import nbdev; nbdev.nbdev_export()"
   ]
  },
  {
   "cell_type": "code",
   "execution_count": null,
   "metadata": {},
   "outputs": [],
   "source": []
  }
 ],
 "metadata": {
  "kernelspec": {
   "display_name": "python3",
   "language": "python",
   "name": "python3"
  }
 },
 "nbformat": 4,
 "nbformat_minor": 4
}
