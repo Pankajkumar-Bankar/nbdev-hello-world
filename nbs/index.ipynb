{
 "cells": [
  {
   "cell_type": "code",
   "execution_count": null,
   "metadata": {},
   "outputs": [],
   "source": [
    "#| hide\n",
    "from nbdev_hello_world.core import *"
   ]
  },
  {
   "cell_type": "markdown",
   "metadata": {},
   "source": [
    "# nbdev-hello-world\n",
    "\n",
    "> Testcases for functions"
   ]
  },
  {
   "cell_type": "code",
   "execution_count": null,
   "metadata": {},
   "outputs": [],
   "source": [
    "#| default_exp nbdev-hello-world"
   ]
  },
  {
   "cell_type": "markdown",
   "metadata": {},
   "source": [
    "## Install"
   ]
  },
  {
   "cell_type": "markdown",
   "metadata": {},
   "source": [
    "```sh\n",
    "pip install nbdev_hello_world\n",
    "```"
   ]
  },
  {
   "cell_type": "markdown",
   "metadata": {},
   "source": [
    "## How to use"
   ]
  },
  {
   "cell_type": "markdown",
   "metadata": {},
   "source": [
    "This file contains all the testcases of Functions written in testing.ipynb ."
   ]
  },
  {
   "cell_type": "markdown",
   "metadata": {},
   "source": [
    "## TestCases"
   ]
  },
  {
   "cell_type": "code",
   "execution_count": null,
   "metadata": {},
   "outputs": [],
   "source": [
    "#| hide\n",
    "from nbdev_hello_world.Functions import *"
   ]
  },
  {
   "cell_type": "code",
   "execution_count": null,
   "metadata": {},
   "outputs": [
    {
     "name": "stdout",
     "output_type": "stream",
     "text": [
      "4\n",
      "-2\n",
      "3\n",
      "0.33\n"
     ]
    }
   ],
   "source": [
    "#| hide\n",
    "print(add(1,3))\n",
    "print(subtract(1,3))\n",
    "print(multiply(1,3))\n",
    "print(divide(1,3))"
   ]
  },
  {
   "cell_type": "code",
   "execution_count": null,
   "metadata": {},
   "outputs": [],
   "source": [
    "#| hide\n",
    "import unittest"
   ]
  },
  {
   "cell_type": "code",
   "execution_count": null,
   "metadata": {},
   "outputs": [],
   "source": [
    "#| echo:True\n",
    "class TestName(unittest.TestCase):\n",
    "    def test_add(self):\n",
    "        self.assertEqual(add(1,3),4)\n",
    "        \n",
    "    def test_subtract(self):\n",
    "        self.assertEqual(subtract(1,3),-2)\n",
    "        \n",
    "    def test_multiply(self):\n",
    "        self.assertEqual(multiply(1,3),3)\n",
    "        \n",
    "    def test_divide(self):\n",
    "        self.assertEqual(divide(1,3),0.33)    "
   ]
  },
  {
   "cell_type": "code",
   "execution_count": null,
   "metadata": {},
   "outputs": [
    {
     "name": "stderr",
     "output_type": "stream",
     "text": [
      "test_add (__main__.TestName) ... ok\n",
      "test_divide (__main__.TestName) ... ok\n",
      "test_multiply (__main__.TestName) ... ok\n",
      "test_subtract (__main__.TestName) ... ok\n",
      "\n",
      "----------------------------------------------------------------------\n",
      "Ran 4 tests in 0.010s\n",
      "\n",
      "OK\n"
     ]
    }
   ],
   "source": [
    "#| echo:False\n",
    "\n",
    "res = unittest.main(argv=[''], verbosity=3, exit=False)"
   ]
  },
  {
   "cell_type": "markdown",
   "metadata": {},
   "source": [
    "### Testing using Fastcore"
   ]
  },
  {
   "cell_type": "code",
   "execution_count": null,
   "metadata": {},
   "outputs": [],
   "source": [
    "#| hide\n",
    "from fastcore.test import *"
   ]
  },
  {
   "cell_type": "code",
   "execution_count": null,
   "metadata": {},
   "outputs": [],
   "source": [
    "#| echo:True\n",
    "class TestName(unittest.TestCase):\n",
    "    def test_add(self):\n",
    "        assert add(1,3)== 4\n",
    "        \n",
    "    def test_subtract(self):\n",
    "        assert subtract(1,3)== 4\n",
    "        \n",
    "    def test_multiply(self):\n",
    "        test_eq(multiply(1,3), 3)\n",
    "        \n",
    "    def test_divide(self):\n",
    "        test_eq(divide(1,3), 0.33)"
   ]
  },
  {
   "cell_type": "code",
   "execution_count": null,
   "metadata": {},
   "outputs": [
    {
     "name": "stderr",
     "output_type": "stream",
     "text": [
      "test_add (__main__.TestName) ... ok\n",
      "test_divide (__main__.TestName) ... ok\n",
      "test_multiply (__main__.TestName) ... ok\n",
      "test_subtract (__main__.TestName) ... FAIL\n",
      "\n",
      "======================================================================\n",
      "FAIL: test_subtract (__main__.TestName)\n",
      "----------------------------------------------------------------------\n",
      "Traceback (most recent call last):\n",
      "  File \"C:\\Users\\5115\\AppData\\Local\\Temp\\ipykernel_20628\\4123861692.py\", line 7, in test_subtract\n",
      "    assert subtract(1,3)== 4\n",
      "AssertionError: assert -2 == 4\n",
      " +  where -2 = subtract(1, 3)\n",
      "\n",
      "----------------------------------------------------------------------\n",
      "Ran 4 tests in 0.009s\n",
      "\n",
      "FAILED (failures=1)\n"
     ]
    }
   ],
   "source": [
    "#| echo:False\n",
    "\n",
    "res = unittest.main(argv=[''], verbosity=3, exit=False)"
   ]
  },
  {
   "cell_type": "code",
   "execution_count": null,
   "metadata": {},
   "outputs": [],
   "source": [
    "#| hide\n",
    "import operator"
   ]
  },
  {
   "cell_type": "markdown",
   "metadata": {},
   "source": [
    "### Other tests from Fastcore "
   ]
  },
  {
   "cell_type": "code",
   "execution_count": null,
   "metadata": {},
   "outputs": [],
   "source": [
    "#| echo:True\n",
    "class TestName(unittest.TestCase):\n",
    "    \n",
    "    def test_fail_pass(self):\n",
    "        test_fail(divide(1,0))\n",
    "        \n",
    "    def test_fail_fail(self):\n",
    "        test_fail(divide(1,3))\n",
    "        \n",
    "    def test_equality_pass(self):\n",
    "        test(add(1,3),add(2,2), operator.eq)\n",
    "        \n",
    "    def test_equality_fail(self):\n",
    "        test(add(1,3),add(3,2), operator.eq)\n",
    "        \n",
    "    def test_fail_lambda_fail(self):\n",
    "        test_fail(lambda: test(add(1,3),add(2,2), operator.eq))\n",
    "        \n",
    "    def test_dtype_pass(self):\n",
    "        test_eq_type(1,1) \n",
    "        \n",
    "    def test_dtype_fail(self):\n",
    "        test_eq_type(1,1.0)\n",
    "        \n",
    "    def test_same_pass(self):\n",
    "        test_is(subtract(1,3),subtract(3,5))\n",
    "        \n",
    "    def test_same_fail(self):\n",
    "        test_is(subtract(1,3),subtract(3,7))\n",
    "        \n",
    "    def test_equality_fail(self):\n",
    "        test(add(1,3),add(3,2), operator.eq)    "
   ]
  },
  {
   "cell_type": "code",
   "execution_count": null,
   "metadata": {},
   "outputs": [
    {
     "name": "stderr",
     "output_type": "stream",
     "text": [
      "test_dtype_fail (__main__.TestName) ... FAIL\n",
      "test_dtype_pass (__main__.TestName) ... ok\n",
      "test_equality_fail (__main__.TestName) ... FAIL\n",
      "test_equality_pass (__main__.TestName) ... ok\n",
      "test_fail_fail (__main__.TestName) ... ok\n",
      "test_fail_lambda_fail (__main__.TestName) ... FAIL\n",
      "test_fail_pass (__main__.TestName) ... ERROR\n",
      "test_same_fail (__main__.TestName) ... FAIL\n",
      "test_same_pass (__main__.TestName) ... ok\n",
      "\n",
      "======================================================================\n",
      "ERROR: test_fail_pass (__main__.TestName)\n",
      "----------------------------------------------------------------------\n",
      "Traceback (most recent call last):\n",
      "  File \"C:\\Users\\5115\\AppData\\Local\\Temp\\ipykernel_20628\\52876440.py\", line 5, in test_fail_pass\n",
      "    test_fail(divide(1,0))\n",
      "  File \"c:\\pankaj\\nbdev\\nbdev-hello-world\\nbdev_hello_world\\Functions.py\", line 22, in divide\n",
      "    raise ValueError(\"Cannot divide by 0\")\n",
      "ValueError: Cannot divide by 0\n",
      "\n",
      "======================================================================\n",
      "FAIL: test_dtype_fail (__main__.TestName)\n",
      "----------------------------------------------------------------------\n",
      "Traceback (most recent call last):\n",
      "  File \"C:\\Users\\5115\\AppData\\Local\\Temp\\ipykernel_20628\\52876440.py\", line 23, in test_dtype_fail\n",
      "    test_eq_type(1,1.0)\n",
      "  File \"C:\\Users\\5115\\AppData\\Local\\miniconda3\\envs\\test_env\\lib\\site-packages\\fastcore\\test.py\", line 43, in test_eq_type\n",
      "    test_eq(type(a),type(b))\n",
      "  File \"C:\\Users\\5115\\AppData\\Local\\miniconda3\\envs\\test_env\\lib\\site-packages\\fastcore\\test.py\", line 37, in test_eq\n",
      "    test(a,b,equals, cname='==')\n",
      "  File \"C:\\Users\\5115\\AppData\\Local\\miniconda3\\envs\\test_env\\lib\\site-packages\\fastcore\\test.py\", line 27, in test\n",
      "    assert cmp(a,b),f\"{cname}:\\n{a}\\n{b}\"\n",
      "AssertionError: ==:\n",
      "<class 'int'>\n",
      "<class 'float'>\n",
      "\n",
      "======================================================================\n",
      "FAIL: test_equality_fail (__main__.TestName)\n",
      "----------------------------------------------------------------------\n",
      "Traceback (most recent call last):\n",
      "  File \"C:\\Users\\5115\\AppData\\Local\\Temp\\ipykernel_20628\\52876440.py\", line 32, in test_equality_fail\n",
      "    test(add(1,3),add(3,2), operator.eq)\n",
      "  File \"C:\\Users\\5115\\AppData\\Local\\miniconda3\\envs\\test_env\\lib\\site-packages\\fastcore\\test.py\", line 27, in test\n",
      "    assert cmp(a,b),f\"{cname}:\\n{a}\\n{b}\"\n",
      "AssertionError: eq:\n",
      "4\n",
      "5\n",
      "\n",
      "======================================================================\n",
      "FAIL: test_fail_lambda_fail (__main__.TestName)\n",
      "----------------------------------------------------------------------\n",
      "Traceback (most recent call last):\n",
      "  File \"C:\\Users\\5115\\AppData\\Local\\Temp\\ipykernel_20628\\52876440.py\", line 17, in test_fail_lambda_fail\n",
      "    test_fail(lambda: test(add(1,3),add(2,2), operator.eq))\n",
      "  File \"C:\\Users\\5115\\AppData\\Local\\miniconda3\\envs\\test_env\\lib\\site-packages\\fastcore\\test.py\", line 21, in test_fail\n",
      "    assert False,f\"Expected exception but none raised. {msg}\"\n",
      "AssertionError: Expected exception but none raised. \n",
      "\n",
      "======================================================================\n",
      "FAIL: test_same_fail (__main__.TestName)\n",
      "----------------------------------------------------------------------\n",
      "Traceback (most recent call last):\n",
      "  File \"C:\\Users\\5115\\AppData\\Local\\Temp\\ipykernel_20628\\52876440.py\", line 29, in test_same_fail\n",
      "    test_is(subtract(1,3),subtract(3,7))\n",
      "  File \"C:\\Users\\5115\\AppData\\Local\\miniconda3\\envs\\test_env\\lib\\site-packages\\fastcore\\test.py\", line 68, in test_is\n",
      "    test(a,b,operator.is_, 'is')\n",
      "  File \"C:\\Users\\5115\\AppData\\Local\\miniconda3\\envs\\test_env\\lib\\site-packages\\fastcore\\test.py\", line 27, in test\n",
      "    assert cmp(a,b),f\"{cname}:\\n{a}\\n{b}\"\n",
      "AssertionError: is:\n",
      "-2\n",
      "-4\n",
      "\n",
      "----------------------------------------------------------------------\n",
      "Ran 9 tests in 0.033s\n",
      "\n",
      "FAILED (failures=4, errors=1)\n"
     ]
    }
   ],
   "source": [
    "#| echo:False\n",
    "\n",
    "res = unittest.main(argv=[''], verbosity=3, exit=False)"
   ]
  },
  {
   "cell_type": "markdown",
   "metadata": {},
   "source": [
    "### Testing using pytest"
   ]
  },
  {
   "cell_type": "code",
   "execution_count": null,
   "metadata": {},
   "outputs": [],
   "source": [
    "#| hide\n",
    "import ipytest\n",
    "\n",
    "ipytest.autoconfig()"
   ]
  },
  {
   "cell_type": "code",
   "execution_count": null,
   "metadata": {},
   "outputs": [
    {
     "name": "stdout",
     "output_type": "stream",
     "text": [
      "\u001b[32m.\u001b[0m\u001b[31mF\u001b[0m\u001b[32m.\u001b[0m\u001b[32m.\u001b[0m\u001b[31m                                                                                         [100%]\u001b[0m\n",
      "============================================ FAILURES =============================================\n",
      "\u001b[31m\u001b[1m__________________________________________ test_subtract __________________________________________\u001b[0m\n",
      "\n",
      "    \u001b[94mdef\u001b[39;49;00m \u001b[92mtest_subtract\u001b[39;49;00m():\n",
      ">       \u001b[94massert\u001b[39;49;00m subtract(\u001b[94m1\u001b[39;49;00m,\u001b[94m3\u001b[39;49;00m) == \u001b[94m2\u001b[39;49;00m\n",
      "\u001b[1m\u001b[31mE       assert -2 == 2\u001b[0m\n",
      "\u001b[1m\u001b[31mE        +  where -2 = subtract(1, 3)\u001b[0m\n",
      "\n",
      "\u001b[1m\u001b[31mC:\\Users\\5115\\AppData\\Local\\Temp\\ipykernel_20628\\2678314103.py\u001b[0m:5: AssertionError\n",
      "\u001b[36m\u001b[1m===================================== short test summary info =====================================\u001b[0m\n",
      "\u001b[31mFAILED\u001b[0m t_bbf4078566044d6a9fd3395a9439b56e.py::\u001b[1mtest_subtract\u001b[0m - assert -2 == 2\n",
      "\u001b[31m\u001b[31m\u001b[1m1 failed\u001b[0m, \u001b[32m3 passed\u001b[0m\u001b[31m in 0.04s\u001b[0m\u001b[0m\n"
     ]
    }
   ],
   "source": [
    "%%ipytest\n",
    "\n",
    "def test_add():\n",
    "    assert add(1,3) == 4\n",
    "    \n",
    "def test_subtract():\n",
    "    assert subtract(1,3) == 2\n",
    "    \n",
    "def test_multiply():\n",
    "    assert multiply(1,3) == 3\n",
    "    \n",
    "def test_divide():\n",
    "    assert divide(1,3) == 0.33\n",
    "\n",
    "    "
   ]
  },
  {
   "cell_type": "code",
   "execution_count": null,
   "metadata": {},
   "outputs": [],
   "source": [
    "#| hide\n",
    "import nbdev; nbdev.nbdev_export()"
   ]
  },
  {
   "cell_type": "code",
   "execution_count": null,
   "metadata": {},
   "outputs": [],
   "source": []
  }
 ],
 "metadata": {
  "kernelspec": {
   "display_name": "python3",
   "language": "python",
   "name": "python3"
  }
 },
 "nbformat": 4,
 "nbformat_minor": 4
}
