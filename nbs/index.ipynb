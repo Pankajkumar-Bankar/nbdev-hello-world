{
 "cells": [
  {
   "cell_type": "code",
   "execution_count": null,
   "metadata": {},
   "outputs": [],
   "source": [
    "#| hide\n",
    "from nbdev_hello_world.core import *"
   ]
  },
  {
   "cell_type": "markdown",
   "metadata": {},
   "source": [
    "# nbdev-hello-world\n",
    "\n",
    "> Testcases for functions"
   ]
  },
  {
   "cell_type": "code",
   "execution_count": null,
   "metadata": {},
   "outputs": [],
   "source": [
    "#| default_exp nbdev-hello-world"
   ]
  },
  {
   "cell_type": "markdown",
   "metadata": {},
   "source": [
    "This file will become your README and also the index of your documentation."
   ]
  },
  {
   "cell_type": "markdown",
   "metadata": {},
   "source": [
    "## Install"
   ]
  },
  {
   "cell_type": "markdown",
   "metadata": {},
   "source": [
    "```sh\n",
    "pip install nbdev_hello_world\n",
    "```"
   ]
  },
  {
   "cell_type": "markdown",
   "metadata": {},
   "source": [
    "## How to use"
   ]
  },
  {
   "cell_type": "markdown",
   "metadata": {},
   "source": [
    "This file contains all the testcases of Functions written in Testing.ipynb ."
   ]
  },
  {
   "cell_type": "markdown",
   "metadata": {},
   "source": [
    "## TestCases"
   ]
  },
  {
   "cell_type": "code",
   "execution_count": null,
   "metadata": {},
   "outputs": [],
   "source": [
    "#| hide\n",
    "from nbdev_hello_world.Functions import *"
   ]
  },
  {
   "cell_type": "code",
   "execution_count": null,
   "metadata": {},
   "outputs": [
    {
     "name": "stdout",
     "output_type": "stream",
     "text": [
      "4\n",
      "-2\n",
      "3\n",
      "0.33\n"
     ]
    }
   ],
   "source": [
    "#| hide\n",
    "print(add(1,3))\n",
    "print(subtract(1,3))\n",
    "print(multiply(1,3))\n",
    "print(divide(1,3))"
   ]
  },
  {
   "cell_type": "code",
   "execution_count": null,
   "metadata": {},
   "outputs": [],
   "source": [
    "#| hide\n",
    "import unittest"
   ]
  },
  {
   "cell_type": "code",
   "execution_count": null,
   "metadata": {},
   "outputs": [],
   "source": [
    "#| echo:True\n",
    "class TestName(unittest.TestCase):\n",
    "    def test_add(self):\n",
    "        self.assertEqual(add(1,3),4)\n",
    "        \n",
    "    def test_subtract(self):\n",
    "        self.assertEqual(subtract(1,3),-2)\n",
    "        \n",
    "    def test_multiply(self):\n",
    "        self.assertEqual(multiply(1,3),3)\n",
    "        \n",
    "    def test_divide(self):\n",
    "        self.assertEqual(divide(1,3),0.33)    "
   ]
  },
  {
   "cell_type": "code",
   "execution_count": null,
   "metadata": {},
   "outputs": [
    {
     "name": "stderr",
     "output_type": "stream",
     "text": [
      "test_add (__main__.TestName) ... ok\n",
      "test_divide (__main__.TestName) ... ok\n",
      "test_multiply (__main__.TestName) ... ok\n",
      "test_subtract (__main__.TestName) ... ok\n",
      "\n",
      "----------------------------------------------------------------------\n",
      "Ran 4 tests in 0.008s\n",
      "\n",
      "OK\n"
     ]
    }
   ],
   "source": [
    "#| echo:False\n",
    "\n",
    "res = unittest.main(argv=[''], verbosity=3, exit=False)"
   ]
  },
  {
   "cell_type": "markdown",
   "metadata": {},
   "source": [
    "### Testing using Fastcore"
   ]
  },
  {
   "cell_type": "code",
   "execution_count": null,
   "metadata": {},
   "outputs": [],
   "source": [
    "#| hide\n",
    "from fastcore.test import *"
   ]
  },
  {
   "cell_type": "code",
   "execution_count": null,
   "metadata": {},
   "outputs": [],
   "source": [
    "#| echo:True\n",
    "class TestName(unittest.TestCase):\n",
    "    def test_add(self):\n",
    "        assert add(1,3)== 4\n",
    "        \n",
    "    def test_subtract(self):\n",
    "        assert subtract(1,3)== 4\n",
    "        \n",
    "    def test_multiply(self):\n",
    "        test_eq(multiply(1,3), 3)\n",
    "        \n",
    "    def test_divide(self):\n",
    "        test_eq(divide(1,3), 0.33)"
   ]
  },
  {
   "cell_type": "code",
   "execution_count": null,
   "metadata": {},
   "outputs": [
    {
     "name": "stderr",
     "output_type": "stream",
     "text": [
      "test_add (__main__.TestName) ... ok\n",
      "test_divide (__main__.TestName) ... ok\n",
      "test_multiply (__main__.TestName) ... ok\n",
      "test_subtract (__main__.TestName) ... FAIL\n",
      "\n",
      "======================================================================\n",
      "FAIL: test_subtract (__main__.TestName)\n",
      "----------------------------------------------------------------------\n",
      "Traceback (most recent call last):\n",
      "  File \"C:\\Users\\5115\\AppData\\Local\\Temp\\ipykernel_9664\\4123861692.py\", line 7, in test_subtract\n",
      "    assert subtract(1,3)== 4\n",
      "AssertionError\n",
      "\n",
      "----------------------------------------------------------------------\n",
      "Ran 4 tests in 0.010s\n",
      "\n",
      "FAILED (failures=1)\n"
     ]
    }
   ],
   "source": [
    "#| echo:False\n",
    "\n",
    "res = unittest.main(argv=[''], verbosity=3, exit=False)"
   ]
  },
  {
   "cell_type": "code",
   "execution_count": null,
   "metadata": {},
   "outputs": [],
   "source": [
    "#| hide\n",
    "import nbdev; nbdev.nbdev_export()"
   ]
  },
  {
   "cell_type": "code",
   "execution_count": null,
   "metadata": {},
   "outputs": [],
   "source": []
  }
 ],
 "metadata": {
  "kernelspec": {
   "display_name": "python3",
   "language": "python",
   "name": "python3"
  }
 },
 "nbformat": 4,
 "nbformat_minor": 4
}
